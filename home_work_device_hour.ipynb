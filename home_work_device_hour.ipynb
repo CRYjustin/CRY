{
 "cells": [
  {
   "cell_type": "code",
   "execution_count": 1,
   "metadata": {},
   "outputs": [],
   "source": [
    "# date: 1/4/2022\n",
    "# author: Ziwen\n",
    "# task: summarize imputed Varaset home and work locations\n",
    "import os, sys, gc\n",
    "import pandas as pd\n",
    "import numpy as np\n",
    "import yaml\n",
    "import os\n",
    "import glob\n",
    "import ipystata\n",
    "\n",
    "from google.cloud import storage\n",
    "from google.cloud import bigquery\n",
    "\n",
    "path = os.path.expanduser('~')\n",
    "# set up env credential variable\n",
    "os.environ['GOOGLE_APPLICATION_CREDENTIALS'] = path + '/Dropbox/Amenity/source/analysis/veraset_gravy_gps_sample/firm-exit-3608acd14b06.json'\n",
    "client = bigquery.Client()\n",
    "\n",
    "import matplotlib.pyplot as plt, seaborn as sns\n",
    "%matplotlib inline\n",
    "%config InlineBackend.figure_format='retina'"
   ]
  },
  {
   "cell_type": "markdown",
   "metadata": {},
   "source": [
    "## Distribution of pings from mon-sun\n",
    "Before everything, just check the pings dropped at home - the distribution from monday to sunday"
   ]
  },
  {
   "cell_type": "code",
   "execution_count": 2,
   "metadata": {},
   "outputs": [
    {
     "data": {
      "text/plain": [
       "<google.cloud.bigquery.table.RowIterator at 0x199cda573d0>"
      ]
     },
     "execution_count": 2,
     "metadata": {},
     "output_type": "execute_result"
    }
   ],
   "source": [
    "# count pings at home by day of week, and hour of day\n",
    "default_dataset = 'firm-exit.veraset_visits'\n",
    "job_config_count = bigquery.QueryJobConfig(write_disposition='WRITE_TRUNCATE',\n",
    "                                     default_dataset=default_dataset)\n",
    "\n",
    "query_count = f'''\n",
    "    with raw_ping as\n",
    "    (select\n",
    "    -- necessary variables and calculation\n",
    "        caid as caid, \n",
    "        extract(hour from datetime_sub(timestamp_seconds(utc_timestamp), interval 7 hour)) as hofd,\n",
    "        format_datetime('%A', datetime_sub(timestamp_seconds(utc_timestamp), interval 7 hour)) as dofw,\n",
    "        substr(geo_hash, 1, 7) as geohash7     \n",
    "    from `ping_ca_01`\n",
    "    ), home_raw_ping as\n",
    "    -- select raw pings at home of IDs we were able to identify home locations\n",
    "    (select\n",
    "        raw_ping.caid as caid,\n",
    "        hofd as hofd,\n",
    "        dofw as dofw\n",
    "    from raw_ping\n",
    "    inner join `home_id_loc`\n",
    "    on `home_id_loc`.`caid` = raw_ping.caid and `home_id_loc`.`geohash7` = raw_ping.geohash7\n",
    "    )\n",
    "    select \n",
    "        dofw,\n",
    "        hofd,\n",
    "        count(caid) as count\n",
    "    from home_raw_ping\n",
    "    group by dofw, hofd\n",
    "'''\n",
    "\n",
    "query_job_count = client.query(query_count, job_config=job_config_count)\n",
    "query_job_count.result() "
   ]
  },
  {
   "cell_type": "code",
   "execution_count": 3,
   "metadata": {},
   "outputs": [
    {
     "data": {
      "text/html": [
       "<div>\n",
       "<style scoped>\n",
       "    .dataframe tbody tr th:only-of-type {\n",
       "        vertical-align: middle;\n",
       "    }\n",
       "\n",
       "    .dataframe tbody tr th {\n",
       "        vertical-align: top;\n",
       "    }\n",
       "\n",
       "    .dataframe thead th {\n",
       "        text-align: right;\n",
       "    }\n",
       "</style>\n",
       "<table border=\"1\" class=\"dataframe\">\n",
       "  <thead>\n",
       "    <tr style=\"text-align: right;\">\n",
       "      <th></th>\n",
       "      <th>dofw</th>\n",
       "      <th>hofd</th>\n",
       "      <th>count</th>\n",
       "    </tr>\n",
       "  </thead>\n",
       "  <tbody>\n",
       "    <tr>\n",
       "      <th>0</th>\n",
       "      <td>Friday</td>\n",
       "      <td>16</td>\n",
       "      <td>67769762</td>\n",
       "    </tr>\n",
       "    <tr>\n",
       "      <th>1</th>\n",
       "      <td>Friday</td>\n",
       "      <td>22</td>\n",
       "      <td>67637548</td>\n",
       "    </tr>\n",
       "    <tr>\n",
       "      <th>2</th>\n",
       "      <td>Monday</td>\n",
       "      <td>13</td>\n",
       "      <td>40565085</td>\n",
       "    </tr>\n",
       "    <tr>\n",
       "      <th>3</th>\n",
       "      <td>Friday</td>\n",
       "      <td>13</td>\n",
       "      <td>46273565</td>\n",
       "    </tr>\n",
       "    <tr>\n",
       "      <th>4</th>\n",
       "      <td>Wednesday</td>\n",
       "      <td>9</td>\n",
       "      <td>42388000</td>\n",
       "    </tr>\n",
       "    <tr>\n",
       "      <th>...</th>\n",
       "      <td>...</td>\n",
       "      <td>...</td>\n",
       "      <td>...</td>\n",
       "    </tr>\n",
       "    <tr>\n",
       "      <th>163</th>\n",
       "      <td>Saturday</td>\n",
       "      <td>21</td>\n",
       "      <td>61123172</td>\n",
       "    </tr>\n",
       "    <tr>\n",
       "      <th>164</th>\n",
       "      <td>Thursday</td>\n",
       "      <td>8</td>\n",
       "      <td>51695699</td>\n",
       "    </tr>\n",
       "    <tr>\n",
       "      <th>165</th>\n",
       "      <td>Tuesday</td>\n",
       "      <td>22</td>\n",
       "      <td>65625362</td>\n",
       "    </tr>\n",
       "    <tr>\n",
       "      <th>166</th>\n",
       "      <td>Thursday</td>\n",
       "      <td>17</td>\n",
       "      <td>45880213</td>\n",
       "    </tr>\n",
       "    <tr>\n",
       "      <th>167</th>\n",
       "      <td>Sunday</td>\n",
       "      <td>23</td>\n",
       "      <td>51006975</td>\n",
       "    </tr>\n",
       "  </tbody>\n",
       "</table>\n",
       "<p>168 rows × 3 columns</p>\n",
       "</div>"
      ],
      "text/plain": [
       "          dofw  hofd     count\n",
       "0       Friday    16  67769762\n",
       "1       Friday    22  67637548\n",
       "2       Monday    13  40565085\n",
       "3       Friday    13  46273565\n",
       "4    Wednesday     9  42388000\n",
       "..         ...   ...       ...\n",
       "163   Saturday    21  61123172\n",
       "164   Thursday     8  51695699\n",
       "165    Tuesday    22  65625362\n",
       "166   Thursday    17  45880213\n",
       "167     Sunday    23  51006975\n",
       "\n",
       "[168 rows x 3 columns]"
      ]
     },
     "execution_count": 3,
     "metadata": {},
     "output_type": "execute_result"
    }
   ],
   "source": [
    "dist = query_job_count.to_dataframe()\n",
    "dist"
   ]
  },
  {
   "cell_type": "code",
   "execution_count": 10,
   "metadata": {},
   "outputs": [],
   "source": [
    "dist_dofw = dist.groupby('dofw')['count'].agg('sum')\n",
    "\n",
    "day = np.array(['Monday', 'Tuesday', 'Wednesday', 'Thursday', 'Friday', 'Saturday', 'Sunday'])\n",
    "dist_dofw = dist_dofw.reindex(day)"
   ]
  },
  {
   "cell_type": "code",
   "execution_count": 14,
   "metadata": {},
   "outputs": [
    {
     "data": {
      "text/plain": [
       "<BarContainer object of 7 artists>"
      ]
     },
     "execution_count": 14,
     "metadata": {},
     "output_type": "execute_result"
    },
    {
     "data": {
      "image/png": "[encoded data removed]",
      "text/plain": [
       "<Figure size 432x288 with 1 Axes>"
      ]
     },
     "metadata": {
      "image/png": {
       "height": 258,
       "width": 372
      },
      "needs_background": "light"
     },
     "output_type": "display_data"
    }
   ],
   "source": [
    "plt.bar(day, dist_dofw)"
   ]
  },
  {
   "cell_type": "code",
   "execution_count": 15,
   "metadata": {},
   "outputs": [],
   "source": [
    "dist_hofd = dist.groupby('hofd')['count'].agg('sum')\n",
    "\n",
    "hour = np.arange(24)"
   ]
  },
  {
   "cell_type": "code",
   "execution_count": 16,
   "metadata": {},
   "outputs": [
    {
     "data": {
      "text/plain": [
       "<BarContainer object of 24 artists>"
      ]
     },
     "execution_count": 16,
     "metadata": {},
     "output_type": "execute_result"
    },
    {
     "data": {
      "image/png": "[encoded data removed]",
      "text/plain": [
       "<Figure size 432x288 with 1 Axes>"
      ]
     },
     "metadata": {
      "image/png": {
       "height": 258,
       "width": 362
      },
      "needs_background": "light"
     },
     "output_type": "display_data"
    }
   ],
   "source": [
    "plt.bar(hour, dist_hofd)"
   ]
  },
  {
   "cell_type": "markdown",
   "metadata": {},
   "source": [
    "## Select, collapse data to device-hour level\n",
    "1. select raw pings for those devices at their identified home/work geohash7 regions.   \n",
    "   this is done by selecting unique ID from `time_converted_raw_ping' with certain conditions.\n",
    "2. Collapse data to device-hour level, aka to count the number of pings in each geohash7 region"
   ]
  },
  {
   "cell_type": "code",
   "execution_count": 3,
   "metadata": {},
   "outputs": [],
   "source": [
    "# set up default working dataset\n",
    "default_dataset = 'firm-exit.veraset_visits'\n",
    "destination_table = 'firm-exit.veraset_visits.home_device_hour'\n",
    "job_config = bigquery.QueryJobConfig(write_disposition='WRITE_TRUNCATE',\n",
    "                                     destination=destination_table,\n",
    "                                     default_dataset=default_dataset)"
   ]
  },
  {
   "cell_type": "code",
   "execution_count": 6,
   "metadata": {},
   "outputs": [
    {
     "name": "stdout",
     "output_type": "stream",
     "text": [
      "Loaded 4202403 rows and 14 columns to firm-exit.veraset_visits.home_device_hour\n"
     ]
    }
   ],
   "source": [
    "# upload home locations to BQ\n",
    "destination_table = 'firm-exit.veraset_visits.home_id_loc'\n",
    "\n",
    "\n",
    "# first need to upload home work locations to BQ from local\n",
    "file_path = path+'/Dropbox/Amenity/data/analysis/veraset_gravy_gps_sample/varaset_home_locations.csv'\n",
    "table_id = destination_table\n",
    "job_config_upload = bigquery.LoadJobConfig(\n",
    "    source_format=bigquery.SourceFormat.CSV, skip_leading_rows=1, autodetect=True, write_disposition='WRITE_TRUNCATE',\n",
    "    )\n",
    "\n",
    "with open(file_path, \"rb\") as source_file:\n",
    "    job_upload = client.load_table_from_file(source_file, table_id, job_config=job_config_upload)\n",
    "\n",
    "job_upload.result()  # Waits for the job to complete.\n",
    "\n",
    "table = client.get_table(table_id)  # Make an API request.\n",
    "print(\n",
    "    \"Loaded {} rows and {} columns to {}\".format(\n",
    "        table.num_rows, len(table.schema), table_id\n",
    "    )\n",
    ")"
   ]
  },
  {
   "cell_type": "code",
   "execution_count": 7,
   "metadata": {},
   "outputs": [
    {
     "name": "stdout",
     "output_type": "stream",
     "text": [
      "Loaded 3991587 rows and 18 columns to firm-exit.veraset_visits.work_device_hour\n"
     ]
    }
   ],
   "source": [
    "# load work locations to BQ\n",
    "destination_table = 'firm-exit.veraset_visits.work_id_loc'\n",
    "\n",
    "file_path = path+'/Dropbox/Amenity/data/analysis/veraset_gravy_gps_sample/varaset_work_locations.csv'\n",
    "table_id = destination_table\n",
    "job_config_upload = bigquery.LoadJobConfig(\n",
    "    source_format=bigquery.SourceFormat.CSV, skip_leading_rows=1, autodetect=True, write_disposition='WRITE_TRUNCATE',\n",
    "    )\n",
    "\n",
    "with open(file_path, \"rb\") as source_file:\n",
    "    job_upload = client.load_table_from_file(source_file, table_id, job_config=job_config_upload)\n",
    "\n",
    "job_upload.result()  # Waits for the job to complete.\n",
    "\n",
    "table = client.get_table(table_id)  # Make an API request.\n",
    "print(\n",
    "    \"Loaded {} rows and {} columns to {}\".format(\n",
    "        table.num_rows, len(table.schema), table_id\n",
    "    )\n",
    ")"
   ]
  },
  {
   "cell_type": "code",
   "execution_count": 6,
   "metadata": {},
   "outputs": [
    {
     "data": {
      "text/plain": [
       "<google.cloud.bigquery.table.RowIterator at 0x16c94a86e50>"
      ]
     },
     "execution_count": 6,
     "metadata": {},
     "output_type": "execute_result"
    }
   ],
   "source": [
    "# select, collapse to device-hour level\n",
    "default_dataset = 'firm-exit.veraset_visits'\n",
    "destination_table = 'firm-exit.veraset_visits.home_device_hour'\n",
    "job_config_select_collapse = bigquery.QueryJobConfig(write_disposition='WRITE_TRUNCATE',\n",
    "                                     destination=destination_table,\n",
    "                                     default_dataset=default_dataset)\n",
    "\n",
    "query_select_collapse = f'''\n",
    "    with raw_ping as\n",
    "    (select\n",
    "    -- necessary variables and calculation\n",
    "        caid as caid, \n",
    "        id_type as id_type,\n",
    "        extract(hour from datetime_sub(timestamp_seconds(utc_timestamp), interval 7 hour)) as hofd,\n",
    "        format_datetime('%A', datetime_sub(timestamp_seconds(utc_timestamp), interval 7 hour)) as weekday,\n",
    "        substr(geo_hash, 1, 7) as geohash7     \n",
    "    from `ping_ca_01`\n",
    "    -- the last week excluded due to the lack of data on 10-30 and 10-31\n",
    "    where cast(datetime_sub(timestamp_seconds(utc_timestamp), interval 7 hour) as datetime)<cast('2021-10-25 00:00:00' as datetime)\n",
    "    ), home_raw_ping as\n",
    "    -- select raw pings at home of IDs we were able to identify home locations\n",
    "    (select\n",
    "        raw_ping.caid as caid,\n",
    "        id_type as id_type,\n",
    "        hofd as hofd,\n",
    "        weekday as weekday,\n",
    "        raw_ping.geohash7 as geohash7\n",
    "    from raw_ping\n",
    "    inner join `home_id_loc`\n",
    "    on `home_id_loc`.`caid` = raw_ping.caid and `home_id_loc`.`geohash7` = raw_ping.geohash7\n",
    "    ), device_weekday_hour as\n",
    "    (select \n",
    "        caid as caid,\n",
    "        hofd as hofd,\n",
    "        weekday as weekday,\n",
    "        count(caid) as num_records_home\n",
    "    from home_raw_ping\n",
    "    -- group by device-weekday-hour level\n",
    "    group by caid, weekday, hofd\n",
    "    ), any_type_geohash as\n",
    "    (select\n",
    "        caid as caid,\n",
    "        id_type as id_type, \n",
    "        geohash7 as geohash7,\n",
    "        row_number() over(partition by caid) as rn\n",
    "    from home_raw_ping\n",
    "    ), device_type_geohash as\n",
    "    (select\n",
    "        * \n",
    "    from any_type_geohash where rn = 1\n",
    "    -- whichever, just need that id_type and geohash region\n",
    "    )\n",
    "    select \n",
    "        device_weekday_hour.*, \n",
    "        device_type_geohash.id_type,\n",
    "        device_type_geohash.geohash7\n",
    "    from device_type_geohash\n",
    "    inner join device_weekday_hour\n",
    "    on device_type_geohash.caid = device_weekday_hour.caid\n",
    "'''\n",
    "\n",
    "query_job_select_collapse = client.query(query_select_collapse, job_config=job_config_select_collapse)\n",
    "query_job_select_collapse.result() "
   ]
  },
  {
   "cell_type": "code",
   "execution_count": 23,
   "metadata": {},
   "outputs": [
    {
     "name": "stdout",
     "output_type": "stream",
     "text": [
      "Exported firm-exit:veraset_visits.home_device_hour to gs://varaset_temp/home_device_hour*.csv\n"
     ]
    }
   ],
   "source": [
    "# export to gcs and download\n",
    "project = \"firm-exit\"\n",
    "dataset_id = \"veraset_visits\"\n",
    "table_id = \"home_device_hour\"\n",
    "\n",
    "destination_uri = \"gs://{}/{}\".format('varaset_temp', \"home_device_hour*.csv\")\n",
    "dataset_ref = bigquery.DatasetReference(project, dataset_id)\n",
    "table_ref = dataset_ref.table(table_id)\n",
    "\n",
    "extract_job = client.extract_table(\n",
    "    table_ref,\n",
    "    destination_uri,\n",
    "    # Location must match that of the source table.\n",
    "    location=\"US\",\n",
    ")  # API request\n",
    "extract_job.result()  # Waits for job to complete.\n",
    "\n",
    "print(\n",
    "    \"Exported {}:{}.{} to {}\".format(project, dataset_id, table_id, destination_uri)\n",
    ")"
   ]
  },
  {
   "cell_type": "markdown",
   "metadata": {},
   "source": [
    "from here the work on summarizing raw pings dropped at home locations is transported to my colab.  \n",
    "Link here ``https://colab.research.google.com/drive/1e5Qy6-cO077Ww9lw7Q63arJTd9XcHObK?usp=sharing``\n",
    "\n",
    "Note 1/21/2022: I devided to use stata with a subsample instead of using colab with (nearly) full sample. Stata is more proficient with summary graphs and weights. It also saves money since mounting gcs would cost storage fees."
   ]
  },
  {
   "cell_type": "code",
   "execution_count": 7,
   "metadata": {},
   "outputs": [
    {
     "data": {
      "text/plain": [
       "<google.cloud.bigquery.table.RowIterator at 0x16cab077c70>"
      ]
     },
     "execution_count": 7,
     "metadata": {},
     "output_type": "execute_result"
    }
   ],
   "source": [
    "# 1/21/2022 revision - weights\n",
    "# downsample so can analyze in stata\n",
    "# downsample using the id in the order of home_id_loc\n",
    "default_dataset = 'firm-exit.veraset_visits'\n",
    "job_config_downsample = bigquery.QueryJobConfig(default_dataset=default_dataset)\n",
    "\n",
    "query_downsample = f'''\n",
    "    with caid_num as\n",
    "    -- generate numerical id for caid\n",
    "    (select\n",
    "        caid as caid,\n",
    "        row_number() over () as device_id\n",
    "    from `home_id_loc`\n",
    "    ), merge_coverage as\n",
    "    (select \n",
    "        `home_device_hour`.`caid` as caid,\n",
    "        hofd,\n",
    "        case \n",
    "            when (weekday = 'Monday') then 1\n",
    "            when (weekday = 'Tuesday') then 2\n",
    "            when (weekday = 'Wednesday') then 3\n",
    "            when (weekday = 'Thursday') then 4\n",
    "            when (weekday = 'Friday') then 5\n",
    "            when (weekday = 'Saturday') then 6\n",
    "            when (weekday = 'Sunday') then 7\n",
    "        end as dofw,\n",
    "        num_records_home,\n",
    "        coverage_1 as coverage\n",
    "    from `home_device_hour`\n",
    "    inner join `monthly_coverage`\n",
    "    on `home_device_hour`.`caid` = `monthly_coverage`.`caid`\n",
    "    ), id_replace as\n",
    "    -- replace string id with num id, easier to process\n",
    "    (select\n",
    "        merge_coverage.hofd,\n",
    "        merge_coverage.dofw, \n",
    "        merge_coverage.num_records_home,\n",
    "        merge_coverage.coverage,\n",
    "        caid_num.device_id\n",
    "    from merge_coverage\n",
    "    inner join caid_num\n",
    "    on merge_coverage.caid = caid_num.caid\n",
    "    )\n",
    "    select \n",
    "        *,\n",
    "    from id_replace\n",
    "    order by device_id\n",
    "    limit 10000000\n",
    "'''\n",
    "\n",
    "query_job_downsample = client.query(query_downsample, job_config=job_config_downsample)\n",
    "query_job_downsample.result() \n"
   ]
  },
  {
   "cell_type": "code",
   "execution_count": 8,
   "metadata": {},
   "outputs": [],
   "source": [
    "downsample = query_job_downsample.to_dataframe()\n",
    "downsample.to_csv(path+'/Dropbox/Amenity/data/derived/veraset_gravy_gps_sample/veraset/home_device_hour_sample.csv', sep=',', mode='w')"
   ]
  },
  {
   "cell_type": "markdown",
   "metadata": {},
   "source": [
    "from here switch to stata. Turns out Stata is much more proficient in making summary plots.\n",
    "\n",
    "See home_device_hour.do in the same directory"
   ]
  },
  {
   "cell_type": "markdown",
   "metadata": {},
   "source": [
    "## Aggregate home pings to home hours\n",
    "### formerly called home hours\n",
    "\n",
    "here for those pings at the imputed home locations, I aggregate them into hours at home instead of looking directly at the number of raw pings. The problem of the number of raw pings is that you can stay at home for a long time and not move too much, then there would not be many pings (weekends), but you can also stay at home for a short time but move a lot, then there would be many pings (weekdays). Aggregating into hours avoids that issue.  \n",
    "\n",
    "Two methods:  \n",
    "1. as long as there is a raw ping in an hour, count that as a home hour regardless of the number of pings  \n",
    "   this does not require any new indicator -- as long as that hour exists in the data, that's a home hour\n",
    "2. there needs not only a ping, but also high coverage in an hour.  \n",
    "   this way it's likely at night there are not too many pings, so nighttime home hours are fewer than daytime home hours.\n"
   ]
  },
  {
   "cell_type": "code",
   "execution_count": 6,
   "metadata": {},
   "outputs": [
    {
     "data": {
      "text/plain": [
       "<google.cloud.bigquery.table.RowIterator at 0x26129ff8670>"
      ]
     },
     "execution_count": 6,
     "metadata": {},
     "output_type": "execute_result"
    }
   ],
   "source": [
    "# first need to calculate monthly coverage\n",
    "# to be merged to home stay data later\n",
    "default_dataset = 'firm-exit.veraset_visits'\n",
    "destination_table = 'firm-exit.veraset_visits.monthly_coverage'\n",
    "job_config_monthly_coverage = bigquery.QueryJobConfig(write_disposition='WRITE_TRUNCATE',\n",
    "                                     destination=destination_table,\n",
    "                                     default_dataset=default_dataset)\n",
    "\n",
    "query_monthly_coverage = f'''\n",
    "    with monthly_coverage_dup as\n",
    "    (select\n",
    "    -- collapse to monthly level by caid, id_type (could be duplicated types)\n",
    "        caid as caid,\n",
    "        id_type as id_type,\n",
    "        sum(coverage_1)/35 as coverage_1,\n",
    "        sum(coverage_3)/35 as coverage_3,\n",
    "        sum(coverage_5)/35 as coverage_5,\n",
    "        sum(coverage_10)/35 as coverage_10\n",
    "    from `device_coverage`\n",
    "    group by caid, id_type\n",
    "    ), monthly_coverage_rank as\n",
    "    (select\n",
    "        *,\n",
    "        row_number() over (partition by caid order by coverage_1 desc) as rn\n",
    "    from monthly_coverage_dup\n",
    "    )\n",
    "    select\n",
    "        * except (rn)\n",
    "    from monthly_coverage_rank\n",
    "    where rn = 1\n",
    "'''\n",
    "\n",
    "query_job_monthly_coverage = client.query(query_monthly_coverage, job_config=job_config_monthly_coverage)\n",
    "query_job_monthly_coverage.result() "
   ]
  },
  {
   "cell_type": "code",
   "execution_count": 8,
   "metadata": {},
   "outputs": [
    {
     "data": {
      "text/plain": [
       "<google.cloud.bigquery.table.RowIterator at 0x26115e36430>"
      ]
     },
     "execution_count": 8,
     "metadata": {},
     "output_type": "execute_result"
    }
   ],
   "source": [
    "# select, collapse to device-hour level\n",
    "# one tricky step is to convert time into five minute blocks\n",
    "default_dataset = 'firm-exit.veraset_visits'\n",
    "destination_table = 'firm-exit.veraset_visits.home_stay_device_dofw_hofd'\n",
    "job_config_ping_to_stay = bigquery.QueryJobConfig(write_disposition='WRITE_TRUNCATE',\n",
    "                                     destination=destination_table,\n",
    "                                     default_dataset=default_dataset)\n",
    "\n",
    "query_ping_to_stay = f'''\n",
    "    with raw_ping as\n",
    "    (select\n",
    "    -- necessary variables and calculation\n",
    "        caid as caid, \n",
    "        timestamp_seconds(300 * div(utc_timestamp - 7*3600, 300)) as PDT_5m,\n",
    "        format_timestamp(\"%b-%d-%Y\",  datetime_sub(timestamp_seconds(utc_timestamp), interval 7 hour)) as date,\n",
    "        extract(hour from datetime_sub(timestamp_seconds(utc_timestamp), interval 7 hour)) as hofd,\n",
    "        format_datetime('%A', datetime_sub(timestamp_seconds(utc_timestamp), interval 7 hour)) as dofw,\n",
    "        substr(geo_hash, 1, 7) as geohash7     \n",
    "    from `ping_ca_01`\n",
    "    -- the last week excluded due to the lack of data on 10-30 and 10-31\n",
    "    where cast(datetime_sub(timestamp_seconds(utc_timestamp), interval 7 hour) as datetime)<cast('2021-10-25 00:00:00' as datetime)\n",
    "    ), home_raw_ping as\n",
    "    -- select raw pings at home of IDs we were able to identify home locations\n",
    "    (select\n",
    "        raw_ping.caid as caid,\n",
    "        PDT_5m,\n",
    "        date,\n",
    "        hofd,\n",
    "        dofw\n",
    "    from raw_ping\n",
    "    inner join `home_id_loc`\n",
    "    on `home_id_loc`.`caid` = raw_ping.caid and `home_id_loc`.`geohash7` = raw_ping.geohash7\n",
    "    ), ping_to_stay as\n",
    "    -- this primarily deals with the 5-m coverage calculation for every hour in the month\n",
    "    (select\n",
    "        caid,\n",
    "        date,\n",
    "        dofw,\n",
    "        hofd,\n",
    "        case \n",
    "            when (count(distinct PDT_5m) >= 3) then 1\n",
    "            else 0\n",
    "        end as home_stay_3,\n",
    "        case \n",
    "            when (count(distinct PDT_5m) >= 6) then 1\n",
    "            else 0\n",
    "        end as home_stay_6,\n",
    "        case \n",
    "            when (count(distinct PDT_5m) >= 9) then 1\n",
    "            else 0\n",
    "        end as home_stay_9\n",
    "    from home_raw_ping\n",
    "    -- group by with dofw is fine bc date and dofw is 1-1\n",
    "    group by caid, date, dofw, hofd\n",
    "    ), device_stay_dofw_hofd as\n",
    "    -- aggregate across all weeks in the month, take the sum of stays\n",
    "    (select\n",
    "        caid,\n",
    "        dofw,\n",
    "        hofd,\n",
    "        count(caid) as home_stay,\n",
    "        countif(home_stay_3 = 1) as home_stay_3,\n",
    "        countif(home_stay_6 = 1) as home_stay_6,\n",
    "        countif(home_stay_9 = 1) as home_stay_9\n",
    "    from ping_to_stay\n",
    "    group by caid, dofw, hofd\n",
    "    )\n",
    "    select \n",
    "        device_stay_dofw_hofd.caid as caid,\n",
    "        case \n",
    "            when (dofw = 'Monday') then 1\n",
    "            when (dofw = 'Tuesday') then 2\n",
    "            when (dofw = 'Wednesday') then 3\n",
    "            when (dofw = 'Thursday') then 4\n",
    "            when (dofw = 'Friday') then 5\n",
    "            when (dofw = 'Saturday') then 6\n",
    "            when (dofw = 'Sunday') then 7\n",
    "        end as dofw,\n",
    "        device_stay_dofw_hofd.hofd,\n",
    "        device_stay_dofw_hofd.home_stay,\n",
    "        device_stay_dofw_hofd.home_stay_3,\n",
    "        device_stay_dofw_hofd.home_stay_6,\n",
    "        device_stay_dofw_hofd.home_stay_9,\n",
    "        `monthly_coverage`.coverage_1\n",
    "    from device_stay_dofw_hofd\n",
    "    inner join `monthly_coverage`\n",
    "    on `monthly_coverage`.`caid` = device_stay_dofw_hofd.caid\n",
    "'''\n",
    "\n",
    "query_job_ping_to_stay = client.query(query_ping_to_stay, job_config=job_config_ping_to_stay)\n",
    "query_job_ping_to_stay.result() "
   ]
  },
  {
   "cell_type": "code",
   "execution_count": 11,
   "metadata": {},
   "outputs": [
    {
     "data": {
      "text/plain": [
       "<google.cloud.bigquery.table.RowIterator at 0x26115e07f10>"
      ]
     },
     "execution_count": 11,
     "metadata": {},
     "output_type": "execute_result"
    }
   ],
   "source": [
    "# downsample using the id in the order of home_id_loc\n",
    "default_dataset = 'firm-exit.veraset_visits'\n",
    "job_config_downsample = bigquery.QueryJobConfig(default_dataset=default_dataset)\n",
    "\n",
    "query_downsample = f'''\n",
    "    with caid_num as\n",
    "    -- generate numerical id for caid\n",
    "    (select\n",
    "        caid as caid,\n",
    "        row_number() over () as device_id\n",
    "    from `home_id_loc`\n",
    "    ), id_replace as\n",
    "    -- replace string id with num id, easier to process\n",
    "    (select\n",
    "        `home_stay_device_dofw_hofd`.`hofd`,\n",
    "        `home_stay_device_dofw_hofd`.`dofw`,\n",
    "        `home_stay_device_dofw_hofd`.`home_stay`,\n",
    "        `home_stay_device_dofw_hofd`.`home_stay_3`,\n",
    "        `home_stay_device_dofw_hofd`.`home_stay_6`,\n",
    "        `home_stay_device_dofw_hofd`.`home_stay_9`,\n",
    "        `home_stay_device_dofw_hofd`.`coverage_1`,\n",
    "        caid_num.device_id\n",
    "    from `home_stay_device_dofw_hofd`\n",
    "    inner join caid_num\n",
    "    on `home_stay_device_dofw_hofd`.`caid` = caid_num.caid\n",
    "    )\n",
    "    select \n",
    "        *,\n",
    "    from id_replace\n",
    "    order by device_id\n",
    "    limit 10000000\n",
    "'''\n",
    "\n",
    "query_job_downsample = client.query(query_downsample, job_config=job_config_downsample)\n",
    "query_job_downsample.result() \n"
   ]
  },
  {
   "cell_type": "code",
   "execution_count": 12,
   "metadata": {},
   "outputs": [],
   "source": [
    "downsample = query_job_downsample.to_dataframe()\n",
    "downsample.to_csv(path+'/Dropbox/Amenity/data/derived/veraset_gravy_gps_sample/veraset/home_stay_device_dofw_hofd_sample.csv', sep=',', mode='w')"
   ]
  },
  {
   "cell_type": "markdown",
   "metadata": {},
   "source": [
    "## Home Hours aggregated out of pings - summary\n",
    "### Formerly called Home Stays\n",
    "\n",
    "from here switch to stata. See home_stay_device_dofw_hofd.do in the same directory"
   ]
  },
  {
   "cell_type": "code",
   "execution_count": null,
   "metadata": {},
   "outputs": [],
   "source": [
    "%%stata -d downsample"
   ]
  },
  {
   "cell_type": "markdown",
   "metadata": {},
   "source": [
    "## Home Durations\n",
    "Here for each device, I try to calculate the time and duration of their home stays. The method is simple\n",
    "1. In raw pings, ordering the data by caid and time stamp is not feasible - gcp cannot do that much of computation for sorting job. Instead, ``lead(geohash7, 1) over (partition by caid order by utc_timestamp)`` gives the geohash7 of the next raw ping, and the condition of extraction is then ``geohash7 != lead.geohash7`` (means the device went a new place) or ``rn()=1`` or ``lead.rn()=1`` (to also extract the start and end of each device's records) or ``geohash7 != lag.geohash7`` (we also need the start of a stay). \\[here it's fine that time stamp is not converted to CA local time\\] Note here the case of single ping in one geohash7 is still preserved. The next filtering condition deals with that.\n",
    "\n",
    "2. Then do another *lead* extraction.  \n",
    "   Now each geohash7 stay should have 2 records (or 1 if just one ping dropped): the start and the end. Another ``lead.geohash7`` should give you the condition ``lead.geohash7=geohash7``. Also take ``lead.timestamp``, as that gives you the start and end time. The one ping cases should be filtered out here given the geohash7 condition, unless it happens to be the ending ping of a device and have the same geohash7 of the starting ping of the next device. Note in any case the last record of a device should not be preserved. So, add condition ``lead.rn()!=1`` (this actually also removes those devices with only 1 ping in total).\n",
    "   \n",
    "3. Now each line is a home stay, with start and end time. Good to do whatever analysis.\n",
    "\n",
    "PS. lead function really is just used to see *this line equals next line or not*"
   ]
  },
  {
   "cell_type": "code",
   "execution_count": 7,
   "metadata": {},
   "outputs": [
    {
     "data": {
      "text/plain": [
       "<google.cloud.bigquery.table.RowIterator at 0x1d9cec77b80>"
      ]
     },
     "execution_count": 7,
     "metadata": {},
     "output_type": "execute_result"
    }
   ],
   "source": [
    "# extract home stays\n",
    "# it follows the babbling up there ↑\n",
    "default_dataset = 'firm-exit.veraset_visits'\n",
    "destination_table = 'firm-exit.veraset_visits.home_start_end'\n",
    "job_config_extract = bigquery.QueryJobConfig(write_disposition='WRITE_TRUNCATE',\n",
    "                                     destination=destination_table,\n",
    "                                     default_dataset=default_dataset)\n",
    "\n",
    "query_extract = f'''\n",
    "    with clean_ping as\n",
    "    (select\n",
    "    -- necessary variables and calculation\n",
    "        caid, \n",
    "        utc_timestamp,\n",
    "        latitude,\n",
    "        longitude,\n",
    "        substr(geo_hash, 1, 7) as geohash7,\n",
    "        row_number() over (partition by caid order by utc_timestamp asc) as rn\n",
    "    from `ping_ca_01`\n",
    "    -- the last week excluded due to the lack of data on 10-30 and 10-31\n",
    "    where cast(datetime_sub(timestamp_seconds(utc_timestamp), interval 7 hour) as datetime)<cast('2021-10-25 00:00:00' as datetime)\n",
    "    ), raw_ping as\n",
    "    (select\n",
    "        caid,\n",
    "        timestamp,\n",
    "        lat,\n",
    "        lon,\n",
    "        geohash7,\n",
    "        num_pings_geohash7,\n",
    "        row_number() over (partition by caid order by timestamp asc) as rn\n",
    "    from \n",
    "    (select \n",
    "        caid as caid,\n",
    "        utc_timestamp as timestamp,\n",
    "        latitude as lat,\n",
    "        longitude as lon,\n",
    "        geohash7 as geohash7,\n",
    "        rn as rn,\n",
    "        lead(geohash7, 1) over (partition by caid order by utc_timestamp asc) as next_geohash7,\n",
    "        lag(geohash7, 1) over (partition by caid order by utc_timestamp asc) as last_geohash7,\n",
    "        lead(rn, 1 ) over (partition by caid order by utc_timestamp asc) as next_rn, \n",
    "            -- if need to add more variables, like the number of pings in a geohash7 region, calculate here.\n",
    "        count(caid) over (partition by caid, geohash7) as num_pings_geohash7\n",
    "    from clean_ping\n",
    "    )\n",
    "    where (geohash7 != next_geohash7) or (geohash7 != last_geohash7) or (rn = 1) or (next_rn=1) \n",
    "    ), stay_start_end as\n",
    "    (select\n",
    "        caid,\n",
    "        start_utc,\n",
    "        lat,\n",
    "        lon,\n",
    "        geohash7,\n",
    "        num_pings_geohash7,\n",
    "        end_utc\n",
    "    from\n",
    "    (select\n",
    "        caid,\n",
    "        timestamp as start_utc,\n",
    "        lat,\n",
    "        lon,\n",
    "        geohash7,\n",
    "        num_pings_geohash7,\n",
    "        lead(timestamp, 1 ) over (partition by caid order by timestamp asc) as end_utc,\n",
    "        lead(geohash7, 1) over (partition by caid order by timestamp asc) as next_geohash7,\n",
    "        lead(rn, 1 ) over (partition by caid order by timestamp asc) as next_rn\n",
    "    from raw_ping\n",
    "    )\n",
    "    where (geohash7 = next_geohash7) and (next_rn != 1)\n",
    "    )\n",
    "    select\n",
    "        stay_start_end.caid,\n",
    "        datetime_sub(timestamp_seconds(stay_start_end.start_utc), interval 7 hour) as start_time,\n",
    "        datetime_sub(timestamp_seconds(stay_start_end.end_utc), interval 7 hour) as end_time,\n",
    "        stay_start_end.lat,\n",
    "        stay_start_end.lon,\n",
    "        stay_start_end.geohash7,\n",
    "        stay_start_end.num_pings_geohash7,\n",
    "    from stay_start_end\n",
    "    inner join `home_id_loc`\n",
    "    on `home_id_loc`.`caid` = stay_start_end.caid and `home_id_loc`.`geohash7` = stay_start_end.geohash7\n",
    "'''\n",
    "\n",
    "query_job_extract = client.query(query_extract, job_config=job_config_extract)\n",
    "query_job_extract.result() "
   ]
  },
  {
   "cell_type": "code",
   "execution_count": 13,
   "metadata": {},
   "outputs": [
    {
     "data": {
      "text/plain": [
       "<google.cloud.bigquery.table.RowIterator at 0x1d9e2e989a0>"
      ]
     },
     "execution_count": 13,
     "metadata": {},
     "output_type": "execute_result"
    }
   ],
   "source": [
    "# now each line is a home stay, with start and end time at utc_timestamp format\n",
    "# a bit more processig: \n",
    "default_dataset = 'firm-exit.veraset_visits'\n",
    "destination_table = 'firm-exit.veraset_visits.home_start_end'\n",
    "job_config_process = bigquery.QueryJobConfig(write_disposition='WRITE_TRUNCATE',\n",
    "                                     destination=destination_table,\n",
    "                                     default_dataset=default_dataset)\n",
    "\n",
    "query_process = f'''\n",
    "select \n",
    "    *\n",
    "from `home_start_end`\n",
    "order by caid, start_utc\n",
    "'''\n",
    "\n",
    "query_job_process = client.query(query_process, job_config=job_config_process)\n",
    "query_job_process.result() \n"
   ]
  }
 ],
 "metadata": {
  "kernelspec": {
   "display_name": "Python 3",
   "language": "python",
   "name": "python3"
  },
  "language_info": {
   "codemirror_mode": {
    "name": "ipython",
    "version": 3
   },
   "file_extension": ".py",
   "mimetype": "text/x-python",
   "name": "python",
   "nbconvert_exporter": "python",
   "pygments_lexer": "ipython3",
   "version": "3.8.5"
  }
 },
 "nbformat": 4,
 "nbformat_minor": 4
}
