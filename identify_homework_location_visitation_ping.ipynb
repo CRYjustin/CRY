{
 "cells": [
  {
   "cell_type": "code",
   "execution_count": 2,
   "metadata": {},
   "outputs": [],
   "source": [
    "# date: 1/7/2022\n",
    "# author: Ziwen\n",
    "# task: veraset - calculate device coverage\n",
    "import os, sys, gc\n",
    "import pandas as pd\n",
    "import numpy as np\n",
    "import yaml\n",
    "import os\n",
    "import glob\n",
    "import ipystata\n",
    "\n",
    "from google.cloud import storage\n",
    "from google.cloud import bigquery\n",
    "\n",
    "path = os.path.expanduser('~')\n",
    "# set up env credential variable\n",
    "os.environ['GOOGLE_APPLICATION_CREDENTIALS'] = path + '/Dropbox/Amenity/source/analysis/veraset_gravy_gps_sample/firm-exit-3608acd14b06.json'\n",
    "client = bigquery.Client()\n",
    "\n",
    "import matplotlib.pyplot as plt, seaborn as sns\n",
    "%matplotlib inline\n",
    "%config InlineBackend.figure_format='retina'"
   ]
  },
  {
   "cell_type": "markdown",
   "metadata": {},
   "source": [
    "## Identify Home/work location using visitation data\n",
    "The idea is that since veraset aggregate raw pings to stays, for each home stay in visitation data, there's gotta be some corresponding pings dropped at home in raw ping data. Here's the method\n",
    "1. For all home stays in visitation, take their caid and start timestamp\n",
    "2. match back to raw pings using caid and time stamp\n",
    "3. take the average lat and lon of such pings for each device as their home location\n",
    "4. and the same for work locations."
   ]
  },
  {
   "cell_type": "code",
   "execution_count": 2,
   "metadata": {},
   "outputs": [
    {
     "name": "stdout",
     "output_type": "stream",
     "text": [
      "Loaded 70173934 rows and 2 columns to firm-exit.veraset_visits.visitation_home_stay\n"
     ]
    }
   ],
   "source": [
    "# upload data from local to bq - home stay caid and timestamp from visitation\n",
    "destination_table = 'firm-exit.veraset_visits.visitation_home_stay'\n",
    "\n",
    "file_path = path+'/Dropbox/Amenity/data/derived/veraset_gravy_gps_sample/veraset/identify_homework_location_visits_to_raw/id_timestamp_home.csv'\n",
    "table_id = destination_table\n",
    "job_config_upload = bigquery.LoadJobConfig(\n",
    "    source_format=bigquery.SourceFormat.CSV, skip_leading_rows=1, autodetect=True, write_disposition='WRITE_TRUNCATE',\n",
    "    )\n",
    "\n",
    "with open(file_path, \"rb\") as source_file:\n",
    "    job_upload = client.load_table_from_file(source_file, table_id, job_config=job_config_upload)\n",
    "\n",
    "job_upload.result()  # Waits for the job to complete.\n",
    "\n",
    "table = client.get_table(table_id)  # Make an API request.\n",
    "print(\n",
    "    \"Loaded {} rows and {} columns to {}\".format(\n",
    "        table.num_rows, len(table.schema), table_id\n",
    "    )\n",
    ")"
   ]
  },
  {
   "cell_type": "code",
   "execution_count": 3,
   "metadata": {},
   "outputs": [
    {
     "data": {
      "text/plain": [
       "<google.cloud.bigquery.table.RowIterator at 0x20a70e17430>"
      ]
     },
     "execution_count": 3,
     "metadata": {},
     "output_type": "execute_result"
    }
   ],
   "source": [
    "# extract pings matched with visitation home stay caid and start timestamp\n",
    "default_dataset = 'firm-exit.veraset_visits'\n",
    "destination_table = 'firm-exit.veraset_visits.home_id_loc_visitation'\n",
    "job_config_home_visitation = bigquery.QueryJobConfig(write_disposition='WRITE_TRUNCATE',\n",
    "                                     destination=destination_table,\n",
    "                                     default_dataset=default_dataset)\n",
    "\n",
    "query_home_visitation = f'''\n",
    "    with home_raw_ping as\n",
    "    -- select raw pings by matching caid and timestamp, and take lat & lon of those pings\n",
    "    (select\n",
    "    -- necessary variables and calculation\n",
    "        `ping_ca_01`.`caid` as caid, \n",
    "        `ping_ca_01`.`utc_timestamp` as utc_timestamp,\n",
    "        `ping_ca_01`.`latitude` as lat,\n",
    "        `ping_ca_01`.`longitude` as lon\n",
    "    from `ping_ca_01`\n",
    "    inner join `visitation_home_stay`\n",
    "    on `ping_ca_01`.`caid` = `visitation_home_stay`.`caid` and `ping_ca_01`.`utc_timestamp` = `visitation_home_stay`.`utc_timestamp`\n",
    "    )\n",
    "    select\n",
    "        caid as caid,\n",
    "        avg(lat) as avg_lat,\n",
    "        avg(lon) as avg_lon\n",
    "    from home_raw_ping\n",
    "    group by caid\n",
    "'''\n",
    "\n",
    "query_job_home_visitation = client.query(query_home_visitation, job_config=job_config_home_visitation)\n",
    "query_job_home_visitation.result() "
   ]
  },
  {
   "cell_type": "code",
   "execution_count": 4,
   "metadata": {},
   "outputs": [],
   "source": [
    "home_id_loc_visitation = query_job_home_visitation.to_dataframe()\n",
    "\n",
    "home_id_loc_visitation.to_csv(path+'/Dropbox/Amenity/data/analysis/veraset_gravy_gps_sample/home_id_loc_visitation.csv', sep=',', mode='w')"
   ]
  },
  {
   "cell_type": "markdown",
   "metadata": {},
   "source": [
    "## Compare reverse engineering result from our imputation\n",
    "the general idea is to look at raw pings at veraset home locations and our home locations side by side and find what's the divergence."
   ]
  },
  {
   "cell_type": "code",
   "execution_count": 3,
   "metadata": {},
   "outputs": [
    {
     "data": {
      "text/plain": [
       "<google.cloud.bigquery.table.RowIterator at 0x1497cf54c40>"
      ]
     },
     "execution_count": 3,
     "metadata": {},
     "output_type": "execute_result"
    }
   ],
   "source": [
    "# extract reverse eng results with our imputation\n",
    "default_dataset = 'firm-exit.veraset_visits'\n",
    "destination_table = 'firm-exit.veraset_visits.rev_our_compare'\n",
    "job_config_rev_our_compare = bigquery.QueryJobConfig(write_disposition='WRITE_TRUNCATE',\n",
    "                                     destination=destination_table,\n",
    "                                     default_dataset=default_dataset)\n",
    "\n",
    "query_rev_our_compare = f'''\n",
    "    with subsample_rev_our as \n",
    "    (select\n",
    "        device_id as caid,\n",
    "        geohash7 as our_geohash7,\n",
    "        geohash as rev_geohash7\n",
    "    from `home_location_geohash7`\n",
    "    -- which contains devices for which our home differs from rev home\n",
    "    limit 1000\n",
    "    ), raw_ping as \n",
    "    -- to extract the raw ping at our home and rev home of those 1000 people\n",
    "    (select \n",
    "        `ping_ca_01`.caid as caid, \n",
    "        datetime_sub(timestamp_seconds(`ping_ca_01`.utc_timestamp), interval 7 hour) as PDT_time,\n",
    "        substr(`ping_ca_01`.geo_hash, 1, 7) as raw_geohash7,\n",
    "        `ping_ca_01`.latitude as lat,\n",
    "        `ping_ca_01`.longitude as lon,\n",
    "        subsample_rev_our.our_geohash7 as our_geohash7,\n",
    "        subsample_rev_our.rev_geohash7 as rev_geohash7\n",
    "    from `ping_ca_01`\n",
    "    inner join subsample_rev_our\n",
    "    on subsample_rev_our.caid = `ping_ca_01`.caid\n",
    "    )\n",
    "    select\n",
    "        *\n",
    "    from \n",
    "    (select\n",
    "        *,\n",
    "        case\n",
    "            when our_geohash7 = raw_geohash7 then 1\n",
    "            else 0\n",
    "        end\n",
    "        as our_home,\n",
    "        case\n",
    "            when rev_geohash7 = raw_geohash7 then 1\n",
    "            else 0\n",
    "        end\n",
    "        as rev_home\n",
    "    from raw_ping\n",
    "    )\n",
    "    where our_home = 1 or rev_home = 1\n",
    "    order by caid, PDT_time\n",
    "'''\n",
    "\n",
    "query_job_rev_our_compare = client.query(query_rev_our_compare, job_config=job_config_rev_our_compare)\n",
    "query_job_rev_our_compare.result() "
   ]
  },
  {
   "cell_type": "code",
   "execution_count": 4,
   "metadata": {},
   "outputs": [],
   "source": [
    "rev_our_compare = query_job_rev_our_compare.to_dataframe()\n",
    "\n",
    "rev_our_compare.to_csv(path+'/Dropbox/Amenity/data/derived/veraset_gravy_gps_sample/veraset/identify_homework_location_visits_to_raw/rev_our_compare.csv', sep=',', mode='w')\n",
    "\n",
    "rev_our_compare = pd.read_csv(path+'/Dropbox/Amenity/data/derived/veraset_gravy_gps_sample/veraset/identify_homework_location_visits_to_raw/rev_our_compare.csv', sep=',')"
   ]
  },
  {
   "cell_type": "code",
   "execution_count": 29,
   "metadata": {},
   "outputs": [
    {
     "data": {
      "text/plain": [
       "<BarContainer object of 24 artists>"
      ]
     },
     "execution_count": 29,
     "metadata": {},
     "output_type": "execute_result"
    },
    {
     "data": {
      "image/png": "[encoded data removed]",
      "text/plain": [
       "<Figure size 432x288 with 1 Axes>"
      ]
     },
     "metadata": {
      "image/png": {
       "height": 248,
       "width": 388
      },
      "needs_background": "light"
     },
     "output_type": "display_data"
    }
   ],
   "source": [
    "rev_our_compare['hofd']=rev_our_compare['PDT_time'].apply(lambda x: x[11:13])\n",
    "our_hofd = rev_our_compare[rev_our_compare['our_home']==1].groupby('hofd').count()\n",
    "\n",
    "plt.bar(our_hofd.index,our_hofd['caid'] )"
   ]
  },
  {
   "cell_type": "code",
   "execution_count": 30,
   "metadata": {},
   "outputs": [
    {
     "data": {
      "text/plain": [
       "<BarContainer object of 24 artists>"
      ]
     },
     "execution_count": 30,
     "metadata": {},
     "output_type": "execute_result"
    },
    {
     "data": {
      "image/png": "[encoded data removed]",
      "text/plain": [
       "<Figure size 432x288 with 1 Axes>"
      ]
     },
     "metadata": {
      "image/png": {
       "height": 248,
       "width": 388
      },
      "needs_background": "light"
     },
     "output_type": "display_data"
    }
   ],
   "source": [
    "rev_our_compare['hofd']=rev_our_compare['PDT_time'].apply(lambda x: x[11:13])\n",
    "rev_hofd = rev_our_compare[rev_our_compare['rev_home']==1].groupby('hofd').count()\n",
    "\n",
    "plt.bar(rev_hofd.index,rev_hofd['caid'] )"
   ]
  }
 ],
 "metadata": {
  "kernelspec": {
   "display_name": "Python 3",
   "language": "python",
   "name": "python3"
  },
  "language_info": {
   "codemirror_mode": {
    "name": "ipython",
    "version": 3
   },
   "file_extension": ".py",
   "mimetype": "text/x-python",
   "name": "python",
   "nbconvert_exporter": "python",
   "pygments_lexer": "ipython3",
   "version": "3.8.5"
  }
 },
 "nbformat": 4,
 "nbformat_minor": 4
}
